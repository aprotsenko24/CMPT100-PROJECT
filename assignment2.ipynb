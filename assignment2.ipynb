{
 "cells": [
  {
   "cell_type": "markdown",
   "metadata": {},
   "source": [
    "## Instructions\n",
    "\n",
    "Write a Python function to return the prime numbers from a given list.\n",
    "\n",
    "1. **Define the Function:** Start by defining a Python function named `get_prime` to perform the task.\n",
    "\n",
    "2. **Function Parameters:** The function should take one parameter, `input_ls`, representing the list to find the prime numbers.\n",
    "\n",
    "3. **Algorithm:** Implement an algorithm within the function to find the prime numbers.\n",
    "\n",
    "4. **Return Value:** The function should return the list with prime numbers.\n",
    "\n",
    "5. **Define the input list:** Input list is provided.\n",
    "\n",
    "6. **Function Call:** Call the `get_prime` function with the `input_ls` as the argument.\n",
    "\n",
    "7. **Output:** Print the `output_ls` returned by the function.\n",
    "\n"
   ]
  },
  {
   "cell_type": "code",
   "execution_count": 28,
   "metadata": {},
   "outputs": [
    {
     "name": "stdout",
     "output_type": "stream",
     "text": [
      "Prime numbers: [29, 73, 59, 17] \n",
      "Initial list:[66, 29, 22, 58, 81, 60, 73, 59, 76, 17]\n"
     ]
    }
   ],
   "source": [
    "import numpy as np\n",
    "def get_prime(input_ls):\n",
    "    \"\"\" EXTRTA CREDIT\n",
    "    The function get_prime returns the list of prime numbers out of initial list\n",
    "    args: \n",
    "    input_ls (list)\n",
    "    Return:\n",
    "    output_ls (list)\"\"\"\n",
    "    output_ls=[]\n",
    "    for num in input_ls:\n",
    "      count=0\n",
    "      for i in range(1, num+1):\n",
    "        if num%i==0:\n",
    "           count+=1\n",
    "      if count==2:\n",
    "         output_ls.append(num)\n",
    "    return output_ls\n",
    "# Define the input list\n",
    "input_ls = [np.random.randint(0,100) for i in range(10)]\n",
    "\n",
    "# Function Call\n",
    "output_ls = get_prime(input_ls)\n",
    "\n",
    "# Output\n",
    "print(f\"Prime numbers: {output_ls} \\nInitial list:{input_ls}\")\n",
    "\n"
   ]
  },
  {
   "cell_type": "code",
   "execution_count": null,
   "metadata": {},
   "outputs": [],
   "source": []
  }
 ],
 "metadata": {
  "kernelspec": {
   "display_name": ".venv",
   "language": "python",
   "name": "python3"
  },
  "language_info": {
   "codemirror_mode": {
    "name": "ipython",
    "version": 3
   },
   "file_extension": ".py",
   "mimetype": "text/x-python",
   "name": "python",
   "nbconvert_exporter": "python",
   "pygments_lexer": "ipython3",
   "version": "3.13.0"
  }
 },
 "nbformat": 4,
 "nbformat_minor": 2
}
