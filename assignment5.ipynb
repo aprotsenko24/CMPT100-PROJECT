{
 "cells": [
  {
   "cell_type": "markdown",
   "metadata": {},
   "source": [
    "This code defines a simple implementation of a class :HashTable in Python.\n",
    "\n",
    "## Instructions\n",
    "\n",
    "1. **Create a hash table:** Declare an empty hash table with size 10 using the `HashTable` class.\n",
    "\n",
    "2. **Insert Values:** Call the `insert` method of the `HashTable` class to insert 'key:value' pairs into the hash table. The 'key:value' pairs to be inserted are provided.\n",
    "\n",
    "    5: apple\n",
    "\n",
    "    6: orange\n",
    "\n",
    "    6: banana\n",
    "\n",
    "3. **Print Hash Table:** Print the hash table to see its contents.\n"
   ]
  },
  {
   "cell_type": "code",
   "execution_count": 8,
   "metadata": {},
   "outputs": [
    {
     "name": "stdout",
     "output_type": "stream",
     "text": [
      "{5: 'apple', 6: 'banana', 7: 'orange'}\n"
     ]
    }
   ],
   "source": [
    "class HashTable:\n",
    "    def __init__(self, size):\n",
    "        self.size = size\n",
    "        self.table = {}\n",
    "    def hash_function(self, key): \n",
    "        \"\"\"The function hash_function returns the hash for the given key\n",
    "        args:\n",
    "        key (integer)\n",
    "        Return:\n",
    "        key % self.size (float)\"\"\"        \n",
    "        return key % self.size\n",
    "    def insert(self, key, value):\n",
    "        \"\"\"The function insert inserts the key and value given by user into\n",
    "        the dictionary under computed indexes: key % self.size \n",
    "        and if index is already occupied, the loop while looks for a free index in dictionary\n",
    "        args:\n",
    "        key (integer)\n",
    "        value (string)\n",
    "        Return:\n",
    "        no return\"\"\"\n",
    "        index = self.hash_function(key)             \n",
    "        while index in self.table.keys() and self.table[index] is not None:            \n",
    "            index +=1            \n",
    "            index %= self.size                     \n",
    "        self.table[index] = value \n",
    "## Write your codes here \n",
    "emp = HashTable(10)\n",
    "emp.insert(5, 'apple')\n",
    "emp.insert(6, 'banana')\n",
    "emp.insert(6, 'orange')\n",
    "print(emp.table)"
   ]
  },
  {
   "cell_type": "code",
   "execution_count": 6,
   "metadata": {},
   "outputs": [
    {
     "ename": "NameError",
     "evalue": "name 'HashTable' is not defined",
     "output_type": "error",
     "traceback": [
      "\u001b[0;31m---------------------------------------------------------------------------\u001b[0m",
      "\u001b[0;31mNameError\u001b[0m                                 Traceback (most recent call last)",
      "Cell \u001b[0;32mIn[6], line 2\u001b[0m\n\u001b[1;32m      1\u001b[0m \u001b[38;5;66;03m## Write your codes here\u001b[39;00m\n\u001b[0;32m----> 2\u001b[0m emp \u001b[38;5;241m=\u001b[39m \u001b[43mHashTable\u001b[49m(\u001b[38;5;241m10\u001b[39m)\n\u001b[1;32m      3\u001b[0m emp\u001b[38;5;241m.\u001b[39minsert(\u001b[38;5;241m5\u001b[39m, \u001b[38;5;124m'\u001b[39m\u001b[38;5;124mapple\u001b[39m\u001b[38;5;124m'\u001b[39m)\n\u001b[1;32m      4\u001b[0m emp\u001b[38;5;241m.\u001b[39minsert(\u001b[38;5;241m6\u001b[39m, \u001b[38;5;124m'\u001b[39m\u001b[38;5;124mbanana\u001b[39m\u001b[38;5;124m'\u001b[39m)\n",
      "\u001b[0;31mNameError\u001b[0m: name 'HashTable' is not defined"
     ]
    }
   ],
   "source": []
  }
 ],
 "metadata": {
  "kernelspec": {
   "display_name": ".venv",
   "language": "python",
   "name": "python3"
  },
  "language_info": {
   "codemirror_mode": {
    "name": "ipython",
    "version": 3
   },
   "file_extension": ".py",
   "mimetype": "text/x-python",
   "name": "python",
   "nbconvert_exporter": "python",
   "pygments_lexer": "ipython3",
   "version": "3.9.6"
  }
 },
 "nbformat": 4,
 "nbformat_minor": 2
}
