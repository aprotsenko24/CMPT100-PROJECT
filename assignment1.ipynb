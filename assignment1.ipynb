{
 "cells": [
  {
   "cell_type": "markdown",
   "metadata": {},
   "source": [
    "## Instructions \n",
    "\n",
    "Write a Python function to reverse a string provided by the user:\n",
    "\n",
    "1. **Define the Function:** Start by defining a Python function named `reverse_string` to perform the task.\n",
    "\n",
    "2. **Function Parameters:** The function should take one parameter, `input_string`, representing the string to be reversed.\n",
    "\n",
    "3. **Algorithm:** Implement an algorithm within the function to reverse the input string. You can use methods such as slicing, loops, but can not use the `reversed()` function.\n",
    "\n",
    "4. **Return Value:** The function should return the reversed string.\n",
    "\n",
    "5. **Input from User:** Prompt the user to input a string.\n",
    "\n",
    "6. **Function Call:** Call the `reverse_string` function with the user-provided string as the argument.\n",
    "\n",
    "7. **Output:** Print the reversed string returned by the function.\n"
   ]
  },
  {
   "cell_type": "code",
   "execution_count": 11,
   "metadata": {},
   "outputs": [
    {
     "name": "stdout",
     "output_type": "stream",
     "text": [
      "Reversed string: netrA\n"
     ]
    }
   ],
   "source": [
    "\n",
    "def reverse_string(input_string):\n",
    "    \"\"\"The function reverse_string reverses the input_string given by user and returns output_string\n",
    "    args: \n",
    "    input_string (string)\n",
    "    Return:\n",
    "    ''.join(output_string[::]) (string)\"\"\"\n",
    "    output_string = [input_string[-i-1] for i in range(len(input_string))]\n",
    "    return ''.join(output_string[::])\n",
    "# Input from User\n",
    "user_input = input(\"Enter a string to reverse: \")\n",
    "\n",
    "# Function Call\n",
    "reversed_input = reverse_string(user_input)\n",
    "\n",
    "# Output\n",
    "print(\"Reversed string:\", reversed_input)"
   ]
  },
  {
   "cell_type": "code",
   "execution_count": null,
   "metadata": {},
   "outputs": [],
   "source": []
  }
 ],
 "metadata": {
  "kernelspec": {
   "display_name": ".venv",
   "language": "python",
   "name": "python3"
  },
  "language_info": {
   "codemirror_mode": {
    "name": "ipython",
    "version": 3
   },
   "file_extension": ".py",
   "mimetype": "text/x-python",
   "name": "python",
   "nbconvert_exporter": "python",
   "pygments_lexer": "ipython3",
   "version": "3.9.6"
  }
 },
 "nbformat": 4,
 "nbformat_minor": 2
}
