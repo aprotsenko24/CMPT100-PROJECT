{
 "cells": [
  {
   "cell_type": "markdown",
   "metadata": {},
   "source": [
    "This code defines a simple implementation of a class :HashTable in Python.\n",
    "\n",
    "## Instructions\n",
    "\n",
    "1. **Create a rectangle:** Constract a rectangle instance with width 10 and length 20.\n",
    "\n",
    "2. **Insert Values:** Call the methods of the `Rectangle` class to compute the area and perimeter of the rectangle.\n",
    "\n",
    "3. **Write a function** Add a method in the Rectangle class to print the attributes of the rentangle. \n"
   ]
  },
  {
   "cell_type": "code",
   "execution_count": 1,
   "metadata": {},
   "outputs": [
    {
     "name": "stdout",
     "output_type": "stream",
     "text": [
      "The width and lenth of rectangle are 10 and 20 respectively\n",
      "The area and perimeter of the rectangle are 200 and 60 analogically\n"
     ]
    }
   ],
   "source": [
    "class Rectangle:\n",
    "    def __init__(self, length, width):\n",
    "        self.length = length\n",
    "        self.width = width\n",
    "    \n",
    "    def area(self):\n",
    "        \"\"\"The function area returns the value for the area of the rectangle with given parameters\n",
    "        by multiplying width and length.\n",
    "        args:\n",
    "        no arguments\n",
    "        Return:\n",
    "        self.length * self.width\"\"\"\n",
    "        return self.length * self.width\n",
    "    \n",
    "    def perimeter(self):\n",
    "        \"\"\"The function perimeter returns the value for the perimeter of the rectangle with given parameters\n",
    "        by adding width and length and myltiplying sum by 2.\n",
    "        args:\n",
    "        no arguments\n",
    "        Return:\n",
    "        2 * (self.length + self.width)\"\"\"\n",
    "        return 2 * (self.length + self.width)\n",
    "    \n",
    "    def attributes(self):\n",
    "        \"\"\"The function attributes prints out the attributes of the rectangle with given parameters\n",
    "        args:\n",
    "        no arguments\n",
    "        Return:\n",
    "        no return\"\"\"\n",
    "        print(f\"The width and lenth of rectangle are {self.width} and {self.length} respectively\")\n",
    "obj = Rectangle(20, 10)\n",
    "obj.attributes()\n",
    "print(f\"The area and perimeter of the rectangle are {obj.area()} and {obj.perimeter()} analogically\")\n",
    "\n"
   ]
  }
 ],
 "metadata": {
  "kernelspec": {
   "display_name": ".venv",
   "language": "python",
   "name": "python3"
  },
  "language_info": {
   "codemirror_mode": {
    "name": "ipython",
    "version": 3
   },
   "file_extension": ".py",
   "mimetype": "text/x-python",
   "name": "python",
   "nbconvert_exporter": "python",
   "pygments_lexer": "ipython3",
   "version": "3.9.6"
  }
 },
 "nbformat": 4,
 "nbformat_minor": 2
}
